{
 "cells": [
  {
   "cell_type": "code",
   "execution_count": 15,
   "metadata": {},
   "outputs": [],
   "source": [
    "from alpha_vantage.timeseries import TimeSeries\n",
    "\n",
    "from statsmodels.tsa.stattools import acf\n",
    "from statsmodels.tsa.stattools import pacf\n",
    "from scipy.stats import shapiro, jarque_bera\n",
    "from statsmodels.tsa.stattools import adfuller\n",
    "\n",
    "import pandas as pd\n",
    "import numpy as np\n",
    "import matplotlib.pyplot as plt\n",
    "import seaborn as sns\n",
    "\n",
    "import torch\n",
    "import torch.nn as nn\n",
    "import torch.optim as optim\n",
    "import torch.nn.functional as F\n",
    "from torch.utils.data import DataLoader, Dataset\n",
    "\n",
    "from torchinfo import summary\n",
    "from torch.nn import TransformerEncoder, TransformerEncoderLayer\n",
    "\n",
    "from sklearn.model_selection import train_test_split\n",
    "from sklearn.preprocessing import StandardScaler, MinMaxScaler\n",
    "from sklearn.metrics import confusion_matrix, classification_report\n",
    "\n",
    "from tqdm import tqdm\n",
    "import pickle\n",
    "\n",
    "from plotly.subplots import make_subplots\n",
    "import plotly.graph_objs as go\n",
    "\n",
    "import math\n",
    "import time\n",
    "\n",
    "import pandas as pd\n",
    "import numpy as np\n",
    "import matplotlib.pyplot as plt\n",
    "import statsmodels.api as sm\n",
    "import pmdarima as pm\n",
    "import statsmodels.graphics.tsaplots as sgt\n",
    "from statsmodels.tsa.stattools import adfuller\n",
    "from statsmodels.tsa.arima.model import ARIMA"
   ]
  },
  {
   "cell_type": "code",
   "execution_count": 16,
   "metadata": {},
   "outputs": [],
   "source": [
    "slide_windows = 5"
   ]
  },
  {
   "cell_type": "code",
   "execution_count": 17,
   "metadata": {},
   "outputs": [],
   "source": [
    "train = np.load('./Train/train_close.npy')\n",
    "train_df = pd.DataFrame(train)\n",
    "train_df.columns = ['Close']"
   ]
  },
  {
   "cell_type": "code",
   "execution_count": 18,
   "metadata": {},
   "outputs": [],
   "source": [
    "data_for_trading = pd.read_csv('LSTM_for_trading.csv')\n",
    "data_for_trading.rename(columns={'Predicted': 'Predicted_LSTM'}, inplace=True)\n",
    "data_for_trading_trans = pd.read_csv('Transformer_for_stock.csv')\n",
    "data_for_trading[\"Predicted_Transformer\"] = data_for_trading_trans[\"tomorrow_price\"]"
   ]
  },
  {
   "cell_type": "code",
   "execution_count": 19,
   "metadata": {},
   "outputs": [
    {
     "name": "stdout",
     "output_type": "stream",
     "text": [
      " ARIMA(0,1,0)(0,0,0)[0] intercept   : AIC=4560.958, Time=0.01 sec\n",
      " ARIMA(0,1,1)(0,0,0)[0] intercept   : AIC=4559.525, Time=0.03 sec\n",
      " ARIMA(0,1,2)(0,0,0)[0] intercept   : AIC=4556.568, Time=0.04 sec\n",
      " ARIMA(0,1,3)(0,0,0)[0] intercept   : AIC=4557.032, Time=0.06 sec\n",
      " ARIMA(0,1,4)(0,0,0)[0] intercept   : AIC=4558.831, Time=0.09 sec\n",
      " ARIMA(0,1,5)(0,0,0)[0] intercept   : AIC=4549.483, Time=0.10 sec\n",
      " ARIMA(1,1,0)(0,0,0)[0] intercept   : AIC=4560.086, Time=0.02 sec\n",
      " ARIMA(1,1,1)(0,0,0)[0] intercept   : AIC=4559.512, Time=0.06 sec\n",
      " ARIMA(1,1,2)(0,0,0)[0] intercept   : AIC=inf, Time=0.10 sec\n",
      " ARIMA(1,1,3)(0,0,0)[0] intercept   : AIC=4555.402, Time=0.14 sec\n",
      " ARIMA(1,1,4)(0,0,0)[0] intercept   : AIC=4557.315, Time=0.16 sec\n",
      " ARIMA(1,1,5)(0,0,0)[0] intercept   : AIC=4549.524, Time=0.16 sec\n",
      " ARIMA(2,1,0)(0,0,0)[0] intercept   : AIC=4556.411, Time=0.03 sec\n",
      " ARIMA(2,1,1)(0,0,0)[0] intercept   : AIC=4555.653, Time=0.08 sec\n",
      " ARIMA(2,1,2)(0,0,0)[0] intercept   : AIC=4557.334, Time=0.22 sec\n",
      " ARIMA(2,1,3)(0,0,0)[0] intercept   : AIC=4557.576, Time=0.20 sec\n",
      " ARIMA(2,1,4)(0,0,0)[0] intercept   : AIC=4558.241, Time=0.21 sec\n",
      " ARIMA(2,1,5)(0,0,0)[0] intercept   : AIC=4540.237, Time=0.34 sec\n",
      " ARIMA(3,1,0)(0,0,0)[0] intercept   : AIC=4558.116, Time=0.04 sec\n",
      " ARIMA(3,1,1)(0,0,0)[0] intercept   : AIC=4557.507, Time=0.11 sec\n",
      " ARIMA(3,1,2)(0,0,0)[0] intercept   : AIC=4559.652, Time=0.10 sec\n",
      " ARIMA(3,1,3)(0,0,0)[0] intercept   : AIC=4551.693, Time=0.25 sec\n",
      " ARIMA(3,1,4)(0,0,0)[0] intercept   : AIC=4544.038, Time=0.44 sec\n",
      " ARIMA(3,1,5)(0,0,0)[0] intercept   : AIC=4541.484, Time=0.51 sec\n",
      " ARIMA(4,1,0)(0,0,0)[0] intercept   : AIC=4558.070, Time=0.05 sec\n",
      " ARIMA(4,1,1)(0,0,0)[0] intercept   : AIC=4557.945, Time=0.11 sec\n",
      " ARIMA(4,1,2)(0,0,0)[0] intercept   : AIC=4551.746, Time=0.35 sec\n",
      " ARIMA(4,1,3)(0,0,0)[0] intercept   : AIC=4542.689, Time=0.38 sec\n",
      " ARIMA(4,1,4)(0,0,0)[0] intercept   : AIC=inf, Time=0.49 sec\n",
      " ARIMA(4,1,5)(0,0,0)[0] intercept   : AIC=inf, Time=0.58 sec\n",
      " ARIMA(5,1,0)(0,0,0)[0] intercept   : AIC=4551.437, Time=0.06 sec\n",
      " ARIMA(5,1,1)(0,0,0)[0] intercept   : AIC=4547.795, Time=0.12 sec\n",
      " ARIMA(5,1,2)(0,0,0)[0] intercept   : AIC=4542.302, Time=0.36 sec\n",
      " ARIMA(5,1,3)(0,0,0)[0] intercept   : AIC=4542.469, Time=0.46 sec\n",
      " ARIMA(5,1,4)(0,0,0)[0] intercept   : AIC=4542.103, Time=0.50 sec\n",
      " ARIMA(5,1,5)(0,0,0)[0] intercept   : AIC=inf, Time=0.67 sec\n",
      " ARIMA(6,1,0)(0,0,0)[0] intercept   : AIC=4545.067, Time=0.08 sec\n",
      " ARIMA(6,1,1)(0,0,0)[0] intercept   : AIC=4546.862, Time=0.16 sec\n",
      " ARIMA(6,1,2)(0,0,0)[0] intercept   : AIC=4543.518, Time=0.55 sec\n",
      " ARIMA(6,1,3)(0,0,0)[0] intercept   : AIC=4544.586, Time=0.61 sec\n",
      " ARIMA(6,1,4)(0,0,0)[0] intercept   : AIC=4546.072, Time=0.59 sec\n",
      " ARIMA(6,1,5)(0,0,0)[0] intercept   : AIC=4543.585, Time=0.64 sec\n",
      "\n",
      "Best model:  ARIMA(2,1,5)(0,0,0)[0] intercept\n",
      "Total fit time: 10.250 seconds\n"
     ]
    }
   ],
   "source": [
    "# train the arima model\n",
    "arima_model = pm.auto_arima(train_df['Close'],\n",
    "                     d=1,\n",
    "                     seasonal=False,\n",
    "                     stepwise=False,\n",
    "                     suppress_warnings=True,\n",
    "                     error_action=\"ignore\",\n",
    "                     max_p=6, \n",
    "                     max_order=None, \n",
    "                     trace=True)"
   ]
  },
  {
   "cell_type": "code",
   "execution_count": 20,
   "metadata": {},
   "outputs": [],
   "source": [
    "# predict the close price for the next n_slide_windows days\n",
    "predictions = []\n",
    "for actual_value_idx in range(0, len(data_for_trading) - slide_windows, slide_windows):\n",
    "    next_n_day_prediction_series = arima_model.predict(n_periods=slide_windows)\n",
    "    if type(next_n_day_prediction_series) == np.ndarray:\n",
    "        next_n_day_prediction_series = pd.Series(next_n_day_prediction_series)\n",
    "    next_day = next_n_day_prediction_series.to_list()\n",
    "    predictions.append(next_day)\n",
    "    arima_model.update(data_for_trading['Real'][actual_value_idx:actual_value_idx + slide_windows])\n",
    "    \n",
    "predictions = np.array(predictions)\n",
    "predictions = predictions.flatten()\n",
    "data_for_trading[\"Predicted_ARIMA\"] = np.nan\n",
    "data_for_trading.loc[1:, \"Predicted_ARIMA\"] = predictions"
   ]
  },
  {
   "cell_type": "code",
   "execution_count": 21,
   "metadata": {},
   "outputs": [
    {
     "name": "stdout",
     "output_type": "stream",
     "text": [
      "Mean Absolute Error for ARIMA model:  17.91054213130565\n",
      "Root Mean Squared Error for ARIMA model:  26.56927848796555\n",
      "Mean Squared Error for ARIMA model:  705.9265593710691\n"
     ]
    }
   ],
   "source": [
    "# msa for the arima model\n",
    "msa_arima = np.mean(np.abs(data_for_trading[\"Real\"] - data_for_trading[\"Predicted_ARIMA\"].shift(-1)))\n",
    "print(\"Mean Absolute Error for ARIMA model: \", msa_arima)\n",
    "rmse_arima = np.sqrt(np.mean((data_for_trading[\"Real\"] - data_for_trading[\"Predicted_ARIMA\"].shift(-1))**2))\n",
    "print(\"Root Mean Squared Error for ARIMA model: \", rmse_arima)\n",
    "mse_arima = np.mean((data_for_trading[\"Real\"] - data_for_trading[\"Predicted_ARIMA\"].shift(-1))**2)\n",
    "print(\"Mean Squared Error for ARIMA model: \", mse_arima)"
   ]
  },
  {
   "cell_type": "code",
   "execution_count": 22,
   "metadata": {},
   "outputs": [
    {
     "name": "stdout",
     "output_type": "stream",
     "text": [
      "Mean Absolute Error for Null model:  9.932520644000002\n",
      "Root Mean Squared Error for Null model:  15.254295942158924\n",
      "Mean Squared Error for Null model:  232.6935446909662\n"
     ]
    }
   ],
   "source": [
    "# null model\n",
    "data_for_trading[\"Predicted_Null\"] = data_for_trading[\"Real\"].shift(1)\n",
    "msa_null = np.mean(np.abs(data_for_trading[\"Real\"] - data_for_trading[\"Predicted_Null\"]))\n",
    "print(\"Mean Absolute Error for Null model: \", msa_null)\n",
    "rmse_null = np.sqrt(np.mean((data_for_trading[\"Real\"] - data_for_trading[\"Predicted_Null\"])**2))\n",
    "print(\"Root Mean Squared Error for Null model: \", rmse_null)\n",
    "mse_null = np.mean((data_for_trading[\"Real\"] - data_for_trading[\"Predicted_Null\"])**2)\n",
    "print(\"Mean Squared Error for Null model: \", mse_null)"
   ]
  },
  {
   "cell_type": "code",
   "execution_count": 23,
   "metadata": {},
   "outputs": [],
   "source": [
    "data_for_trading.to_csv('Algorithmic_for_stock.csv', index=False)"
   ]
  }
 ],
 "metadata": {
  "kernelspec": {
   "display_name": "deep_learning_finance",
   "language": "python",
   "name": "python3"
  },
  "language_info": {
   "codemirror_mode": {
    "name": "ipython",
    "version": 3
   },
   "file_extension": ".py",
   "mimetype": "text/x-python",
   "name": "python",
   "nbconvert_exporter": "python",
   "pygments_lexer": "ipython3",
   "version": "3.11.7"
  }
 },
 "nbformat": 4,
 "nbformat_minor": 2
}
