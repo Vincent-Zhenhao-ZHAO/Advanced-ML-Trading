{
 "cells": [
  {
   "cell_type": "code",
   "execution_count": 1,
   "metadata": {},
   "outputs": [],
   "source": [
    "from alpha_vantage.timeseries import TimeSeries\n",
    "\n",
    "from statsmodels.tsa.stattools import acf\n",
    "from statsmodels.tsa.stattools import pacf\n",
    "from scipy.stats import shapiro, jarque_bera\n",
    "from statsmodels.tsa.stattools import adfuller\n",
    "\n",
    "import pandas as pd\n",
    "import numpy as np\n",
    "import matplotlib.pyplot as plt\n",
    "import seaborn as sns\n",
    "\n",
    "import torch\n",
    "import torch.nn as nn\n",
    "import torch.optim as optim\n",
    "import torch.nn.functional as F\n",
    "from torch.utils.data import DataLoader, Dataset\n",
    "\n",
    "from sklearn.model_selection import train_test_split\n",
    "from sklearn.preprocessing import StandardScaler, MinMaxScaler\n",
    "from sklearn.metrics import confusion_matrix, classification_report\n",
    "\n",
    "from tqdm import tqdm\n",
    "import pickle\n",
    "look_back = 5"
   ]
  },
  {
   "cell_type": "code",
   "execution_count": null,
   "metadata": {},
   "outputs": [],
   "source": [
    "# Original code from: https://colab.research.google.com/drive/18WiSw1K0BW3jOKO56vxn11Fo9IyOuRjh#scrollTo=2SoQJk5BYOas"
   ]
  },
  {
   "cell_type": "markdown",
   "metadata": {},
   "source": [
    "## Data"
   ]
  },
  {
   "cell_type": "code",
   "execution_count": 2,
   "metadata": {},
   "outputs": [],
   "source": [
    "data = pd.read_csv('NVDA.csv')\n",
    "data.drop(['Open', 'High', 'Low', 'Adj Close'], axis=1, inplace=True)"
   ]
  },
  {
   "cell_type": "code",
   "execution_count": 3,
   "metadata": {},
   "outputs": [
    {
     "data": {
      "text/html": [
       "<div>\n",
       "<style scoped>\n",
       "    .dataframe tbody tr th:only-of-type {\n",
       "        vertical-align: middle;\n",
       "    }\n",
       "\n",
       "    .dataframe tbody tr th {\n",
       "        vertical-align: top;\n",
       "    }\n",
       "\n",
       "    .dataframe thead th {\n",
       "        text-align: right;\n",
       "    }\n",
       "</style>\n",
       "<table border=\"1\" class=\"dataframe\">\n",
       "  <thead>\n",
       "    <tr style=\"text-align: right;\">\n",
       "      <th></th>\n",
       "      <th>Date</th>\n",
       "      <th>Close</th>\n",
       "      <th>Volume</th>\n",
       "    </tr>\n",
       "  </thead>\n",
       "  <tbody>\n",
       "    <tr>\n",
       "      <th>0</th>\n",
       "      <td>2019-03-29</td>\n",
       "      <td>44.889999</td>\n",
       "      <td>45689600</td>\n",
       "    </tr>\n",
       "    <tr>\n",
       "      <th>1</th>\n",
       "      <td>2019-04-01</td>\n",
       "      <td>45.570000</td>\n",
       "      <td>48382400</td>\n",
       "    </tr>\n",
       "    <tr>\n",
       "      <th>2</th>\n",
       "      <td>2019-04-02</td>\n",
       "      <td>45.750000</td>\n",
       "      <td>44092000</td>\n",
       "    </tr>\n",
       "    <tr>\n",
       "      <th>3</th>\n",
       "      <td>2019-04-03</td>\n",
       "      <td>47.154999</td>\n",
       "      <td>78350400</td>\n",
       "    </tr>\n",
       "    <tr>\n",
       "      <th>4</th>\n",
       "      <td>2019-04-04</td>\n",
       "      <td>47.064999</td>\n",
       "      <td>45737600</td>\n",
       "    </tr>\n",
       "    <tr>\n",
       "      <th>...</th>\n",
       "      <td>...</td>\n",
       "      <td>...</td>\n",
       "      <td>...</td>\n",
       "    </tr>\n",
       "    <tr>\n",
       "      <th>1254</th>\n",
       "      <td>2024-03-22</td>\n",
       "      <td>942.890015</td>\n",
       "      <td>58521500</td>\n",
       "    </tr>\n",
       "    <tr>\n",
       "      <th>1255</th>\n",
       "      <td>2024-03-25</td>\n",
       "      <td>950.020020</td>\n",
       "      <td>55213600</td>\n",
       "    </tr>\n",
       "    <tr>\n",
       "      <th>1256</th>\n",
       "      <td>2024-03-26</td>\n",
       "      <td>925.609985</td>\n",
       "      <td>51364800</td>\n",
       "    </tr>\n",
       "    <tr>\n",
       "      <th>1257</th>\n",
       "      <td>2024-03-27</td>\n",
       "      <td>902.500000</td>\n",
       "      <td>58606700</td>\n",
       "    </tr>\n",
       "    <tr>\n",
       "      <th>1258</th>\n",
       "      <td>2024-03-28</td>\n",
       "      <td>903.559998</td>\n",
       "      <td>43449800</td>\n",
       "    </tr>\n",
       "  </tbody>\n",
       "</table>\n",
       "<p>1259 rows × 3 columns</p>\n",
       "</div>"
      ],
      "text/plain": [
       "            Date       Close    Volume\n",
       "0     2019-03-29   44.889999  45689600\n",
       "1     2019-04-01   45.570000  48382400\n",
       "2     2019-04-02   45.750000  44092000\n",
       "3     2019-04-03   47.154999  78350400\n",
       "4     2019-04-04   47.064999  45737600\n",
       "...          ...         ...       ...\n",
       "1254  2024-03-22  942.890015  58521500\n",
       "1255  2024-03-25  950.020020  55213600\n",
       "1256  2024-03-26  925.609985  51364800\n",
       "1257  2024-03-27  902.500000  58606700\n",
       "1258  2024-03-28  903.559998  43449800\n",
       "\n",
       "[1259 rows x 3 columns]"
      ]
     },
     "execution_count": 3,
     "metadata": {},
     "output_type": "execute_result"
    }
   ],
   "source": [
    "# preprocessing the data\n",
    "data"
   ]
  },
  {
   "cell_type": "code",
   "execution_count": 18,
   "metadata": {},
   "outputs": [],
   "source": [
    "# split the data into train, validation and test sets\n",
    "def split_data(data: pd.DataFrame, train_size: float = 0.6, val_size: float = 0.2):\n",
    "    train_size = round(data.shape[0] * train_size)\n",
    "    val_size = round(data.shape[0] * val_size)\n",
    "    test_size = data.shape[0] - train_size - val_size\n",
    "    \n",
    "    train = data.iloc[:train_size]\n",
    "    val = data.iloc[train_size:train_size+val_size]\n",
    "    test = data.iloc[train_size+val_size:]\n",
    "    \n",
    "    train.loc[:, 'Date'] = pd.to_datetime(train['Date'])\n",
    "    val.loc[:, 'Date'] = pd.to_datetime(val['Date'])\n",
    "    test.loc[:, 'Date'] = pd.to_datetime(test['Date'])\n",
    "    return train, val, test\n",
    "\n",
    "train, val, test = split_data(data, train_size=0.6, val_size=0.2)"
   ]
  },
  {
   "cell_type": "code",
   "execution_count": 19,
   "metadata": {},
   "outputs": [
    {
     "data": {
      "text/plain": [
       "(755, 252, 252)"
      ]
     },
     "execution_count": 19,
     "metadata": {},
     "output_type": "execute_result"
    }
   ],
   "source": [
    "len(train), len(val), len(test)"
   ]
  },
  {
   "cell_type": "code",
   "execution_count": 24,
   "metadata": {},
   "outputs": [
    {
     "data": {
      "text/plain": [
       "0.7497517378351539"
      ]
     },
     "execution_count": 24,
     "metadata": {},
     "output_type": "execute_result"
    }
   ],
   "source": [
    "755 / 1007"
   ]
  },
  {
   "cell_type": "code",
   "execution_count": 6,
   "metadata": {},
   "outputs": [
    {
     "data": {
      "image/png": "[encoded data removed]",
      "text/plain": [
       "<Figure size 2000x500 with 1 Axes>"
      ]
     },
     "metadata": {},
     "output_type": "display_data"
    }
   ],
   "source": [
    "def plot_data_split(train: pd.DataFrame, val: pd.DataFrame, test: pd.DataFrame):\n",
    "    plt.figure(figsize=(20, 5))\n",
    "    plt.plot(train[\"Date\"], train['Close'], label='Train')\n",
    "    plt.plot(val[\"Date\"],val['Close'], label='Validation')\n",
    "    plt.plot(test[\"Date\"], test['Close'], label='Test')\n",
    "    plt.legend()\n",
    "    plt.show()\n",
    "    \n",
    "plot_data_split(train, val, test)"
   ]
  },
  {
   "cell_type": "code",
   "execution_count": 7,
   "metadata": {},
   "outputs": [],
   "source": [
    "def data_prepation_training(data: pd.DataFrame):\n",
    "    sc = MinMaxScaler(feature_range=(0,1))\n",
    "    data_scaled_close = train['Close'].values.reshape(-1, 1)\n",
    "    data_scaled_close = sc.fit_transform(data_scaled_close)\n",
    "    data_scaled = pd.DataFrame(data_scaled_close, columns=['Close'])\n",
    "    data_scaled.index = train['Date']\n",
    "    return data_scaled, sc\n",
    "\n",
    "# we are trying to predict the close price of the stock from the past n days of close price\n",
    "def format_dataset(data_scaled,look_back=60):\n",
    "    X_train = []\n",
    "    X_train_date = []\n",
    "    y_train = []\n",
    "    y_train_date = []\n",
    "    for i in range(look_back, len(data_scaled)):\n",
    "        # get the past 'look_back' days of close price\n",
    "        X_train.append(data_scaled.iloc[i-look_back:i, 0])\n",
    "        X_train_date.append(data_scaled.index[i-look_back:i])\n",
    "        y_train.append(data_scaled.iloc[i, 0])\n",
    "        y_train_date.append(data_scaled.index[i])\n",
    "    X_train, y_train = np.array(X_train), np.array(y_train)\n",
    "    X_train_date, y_train_date = np.array(X_train_date), np.array(y_train_date)\n",
    "    X_train = np.reshape(X_train, (X_train.shape[0], X_train.shape[1], 1))\n",
    "    X_train_date = np.reshape(X_train_date, (X_train_date.shape[0], X_train_date.shape[1], 1))\n",
    "    return X_train, y_train, X_train_date, y_train_date"
   ]
  },
  {
   "cell_type": "code",
   "execution_count": 8,
   "metadata": {},
   "outputs": [],
   "source": [
    "def testing_validation(train, val, look_back=60):\n",
    "    sc = MinMaxScaler(feature_range=(0,1))\n",
    "    total_dataset = pd.concat((train['Close'], val['Close']), axis=0)\n",
    "    total_datset_date = pd.concat((train['Date'], val['Date']), axis=0)\n",
    "    inputs = total_dataset[len(total_dataset) - len(val) - look_back:].values\n",
    "    inputs_date = total_datset_date[len(total_datset_date) - len(val) - look_back:].values\n",
    "    inputs = inputs.reshape(-1,1)\n",
    "    inputs = sc.fit_transform(inputs)\n",
    "    X_val = []\n",
    "    X_val_date = []\n",
    "    for i in range(look_back, len(inputs)):\n",
    "        X_val.append(inputs[i-look_back:i, 0])\n",
    "        X_val_date.append(inputs_date[i-look_back:i])\n",
    "    X_val = np.array(X_val)\n",
    "    X_val_date = np.array(X_val_date)\n",
    "    X_val = np.reshape(X_val, (X_val.shape[0], X_val.shape[1], 1))\n",
    "    X_val_date = np.reshape(X_val_date, (X_val_date.shape[0], X_val_date.shape[1], 1))\n",
    "    return X_val, X_val_date, sc"
   ]
  },
  {
   "cell_type": "code",
   "execution_count": 9,
   "metadata": {},
   "outputs": [],
   "source": [
    "def prepare_data(data: pd.DataFrame, look_back=60):\n",
    "    data_scaled, sc = data_prepation_training(data)\n",
    "    X, y, X_date, y_date = format_dataset(data_scaled, look_back=look_back)\n",
    "    return X, y, X_date, y_date"
   ]
  },
  {
   "cell_type": "code",
   "execution_count": 10,
   "metadata": {},
   "outputs": [
    {
     "name": "stderr",
     "output_type": "stream",
     "text": [
      "/Users/vincentzhao/anaconda3/envs/deep_learning_finance/lib/python3.11/site-packages/pandas/core/indexes/base.py:7630: FutureWarning: Dtype inference on a pandas object (Series, Index, ExtensionArray) is deprecated. The Index constructor will keep the original dtype in the future. Call `infer_objects` on the result to get the old behavior.\n",
      "  return Index(index_like, name=name, copy=copy)\n"
     ]
    }
   ],
   "source": [
    "X_train, y_train, X_train_date, y_train_date = prepare_data(train, look_back=look_back)"
   ]
  },
  {
   "cell_type": "code",
   "execution_count": 11,
   "metadata": {},
   "outputs": [],
   "source": [
    "train_and_val = pd.concat((train, val), axis=0)\n",
    "X_val, X_val_date, sc_val = testing_validation(train, val, look_back=look_back)\n",
    "X_test, X_test_date, sc_test = testing_validation(train, test, look_back=look_back)"
   ]
  },
  {
   "cell_type": "code",
   "execution_count": 12,
   "metadata": {},
   "outputs": [],
   "source": [
    "val_close = val['Close'].values\n",
    "test_close = test['Close'].values\n",
    "train_close = train['Close'].values"
   ]
  },
  {
   "cell_type": "code",
   "execution_count": 13,
   "metadata": {},
   "outputs": [],
   "source": [
    "val_close = np.array(object=val_close)\n",
    "test_close = np.array(object=test_close)\n",
    "train_close = np.array(object=train_close)"
   ]
  },
  {
   "cell_type": "code",
   "execution_count": 14,
   "metadata": {},
   "outputs": [],
   "source": [
    "# save the data\n",
    "np.save(\"./Train/train_close.npy\", train_close)\n",
    "\n",
    "np.save('./Train/X_train.npy', X_train)\n",
    "np.save('./Train/y_train.npy', y_train)\n",
    "np.save('./TrainX_train_date.npy', X_train_date)\n",
    "np.save('./Train/y_train_date.npy', y_train_date)\n",
    "\n",
    "np.save('./Validation/X_val.npy', X_val)\n",
    "np.save('./Validation/val.npy', val_close)\n",
    "\n",
    "np.save('./Test/X_test.npy', X_test)\n",
    "np.save('./Test/test_close.npy', test_close)\n",
    "\n",
    "# save pickle file\n",
    "with open('./Scaler/scaler_val.pkl', 'wb') as f:\n",
    "    pickle.dump(sc_val, f)\n",
    "\n",
    "# save pickle file\n",
    "with open('./Scaler/scaler_test.pkl', 'wb') as f:\n",
    "    pickle.dump(sc_test, f)"
   ]
  }
 ],
 "metadata": {
  "kernelspec": {
   "display_name": "deep_learning_finance",
   "language": "python",
   "name": "python3"
  },
  "language_info": {
   "codemirror_mode": {
    "name": "ipython",
    "version": 3
   },
   "file_extension": ".py",
   "mimetype": "text/x-python",
   "name": "python",
   "nbconvert_exporter": "python",
   "pygments_lexer": "ipython3",
   "version": "3.11.7"
  }
 },
 "nbformat": 4,
 "nbformat_minor": 2
}
